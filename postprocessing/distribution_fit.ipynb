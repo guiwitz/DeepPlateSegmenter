{
 "cells": [
  {
   "cell_type": "code",
   "execution_count": 1,
   "metadata": {},
   "outputs": [],
   "source": [
    "import numpy as np\n",
    "import sys, os, re\n",
    "import pandas as pd\n",
    "import scipy.optimize\n",
    "\n",
    "from deeplate.MMdata import MMData\n",
    "import deeplate.postproc as post\n",
    "import matplotlib.pyplot as plt\n"
   ]
  },
  {
   "cell_type": "code",
   "execution_count": 2,
   "metadata": {},
   "outputs": [],
   "source": [
    "#folder_root = '/scicore/home/nimwegen/urchuegu/projects/prj_noise_across_conditions_main/cell_size'\n",
    "\n",
    "folder_root = '/Users/guillaume/Desktop/PostdocBasel/'"
   ]
  },
  {
   "cell_type": "code",
   "execution_count": 3,
   "metadata": {},
   "outputs": [],
   "source": [
    "#folder_list = ('20180506/20180506_synrich_M02_1',\n",
    "#              '20180315/20180315_m9gluc_M02_1')\n",
    "\n",
    "folder_list = ['DeepPlateSegmenter']"
   ]
  },
  {
   "cell_type": "code",
   "execution_count": 8,
   "metadata": {},
   "outputs": [],
   "source": [
    "for f in folder_list:\n",
    "    datafolder = os.path.normpath(folder_root)+'/'+f\n",
    "    datafolder = os.path.normpath(datafolder)+'/dataframes'\n",
    "    \n",
    "    if not os.path.exists(datafolder+'/fits'):\n",
    "        os.makedirs(datafolder+'/fits')\n",
    "\n",
    "    fluoframe = post.recover_dataframes(datafolder)\n",
    "    fit_results = post.fit_dataset(fluoframe)\n",
    "    post.plot_fits(fit_results,datafolder+'/fits')\n",
    "    \n",
    "    results_frame = pd.DataFrame(fit_results)\n",
    "    results_frame.to_csv(datafolder+'/fits/fit_dataframe.csv')"
   ]
  },
  {
   "cell_type": "code",
   "execution_count": 5,
   "metadata": {},
   "outputs": [],
   "source": [
    "amps = np.array(fit_results['amp1'])\n",
    "means = np.array(fit_results['mean1'])\n",
    "variances = np.array(fit_results['sigma1'])\n",
    "#plt.plot(means,error,'o',alpha = 0.5)\n",
    "#plt.show()\n",
    "#plt.plot(means,np.sqrt(variances),'o',alpha = 0.5)\n",
    "plt.plot(means[amps>20],np.abs(variances[amps>20]),'o',alpha = 0.5)\n",
    "plt.show()"
   ]
  },
  {
   "cell_type": "code",
   "execution_count": null,
   "metadata": {},
   "outputs": [],
   "source": []
  }
 ],
 "metadata": {
  "kernelspec": {
   "display_name": "Python 3",
   "language": "python",
   "name": "python3"
  },
  "language_info": {
   "codemirror_mode": {
    "name": "ipython",
    "version": 3
   },
   "file_extension": ".py",
   "mimetype": "text/x-python",
   "name": "python",
   "nbconvert_exporter": "python",
   "pygments_lexer": "ipython3",
   "version": "3.6.1"
  }
 },
 "nbformat": 4,
 "nbformat_minor": 2
}
