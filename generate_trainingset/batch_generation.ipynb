{
 "cells": [
  {
   "cell_type": "code",
   "execution_count": 199,
   "metadata": {},
   "outputs": [],
   "source": [
    "import sys, os, re, glob\n",
    "import numpy as np\n",
    "\n",
    "import matplotlib\n",
    "#matplotlib.use('Agg')\n",
    "\n",
    "import matplotlib.pyplot as plt\n",
    "import scipy.ndimage as nd\n",
    "import skimage.morphology as morpho\n",
    "\n",
    "from deeplate.MMdata import MMData "
   ]
  },
  {
   "cell_type": "code",
   "execution_count": 200,
   "metadata": {},
   "outputs": [],
   "source": [
    "folder = '/scicore/home/nimwegen/urchuegu/projects/prj_noise_across_conditions_main/cell_size/data/20170126/201710126_lowerbound'"
   ]
  },
  {
   "cell_type": "code",
   "execution_count": 201,
   "metadata": {},
   "outputs": [],
   "source": [
    "MMobj = MMData(folder = folder)"
   ]
  },
  {
   "cell_type": "code",
   "execution_count": 202,
   "metadata": {},
   "outputs": [
    {
     "name": "stdout",
     "output_type": "stream",
     "text": [
      "['GFP', 'DIA (GFP)']\n"
     ]
    }
   ],
   "source": [
    "print(MMobj.channels)"
   ]
  },
  {
   "cell_type": "code",
   "execution_count": 203,
   "metadata": {},
   "outputs": [],
   "source": [
    "##second part of training generation with sorted out segmentations\n",
    "path_to_save = '/scicore/home/nimwegen/witzg/DeepLearningData/Learn20170126_watershed/good/'\n",
    "path_to_save = os.path.normpath(path_to_save)"
   ]
  },
  {
   "cell_type": "code",
   "execution_count": 204,
   "metadata": {},
   "outputs": [],
   "source": [
    "#based on the above outpout set fluo and bright field channels\n",
    "fluo_ch = 0\n",
    "bf_ch = 1"
   ]
  },
  {
   "cell_type": "code",
   "execution_count": 205,
   "metadata": {},
   "outputs": [],
   "source": [
    "good_seg = glob.glob(path_to_save+'/segplot*.png')"
   ]
  },
  {
   "cell_type": "code",
   "execution_count": 206,
   "metadata": {},
   "outputs": [
    {
     "data": {
      "text/plain": [
       "['/scicore/home/nimwegen/witzg/DeepLearningData/Learn20170126_watershed/good/segplot108.png',\n",
       " '/scicore/home/nimwegen/witzg/DeepLearningData/Learn20170126_watershed/good/segplot43.png',\n",
       " '/scicore/home/nimwegen/witzg/DeepLearningData/Learn20170126_watershed/good/segplot137.png',\n",
       " '/scicore/home/nimwegen/witzg/DeepLearningData/Learn20170126_watershed/good/segplot166.png',\n",
       " '/scicore/home/nimwegen/witzg/DeepLearningData/Learn20170126_watershed/good/segplot109.png',\n",
       " '/scicore/home/nimwegen/witzg/DeepLearningData/Learn20170126_watershed/good/segplot61.png',\n",
       " '/scicore/home/nimwegen/witzg/DeepLearningData/Learn20170126_watershed/good/segplot142.png',\n",
       " '/scicore/home/nimwegen/witzg/DeepLearningData/Learn20170126_watershed/good/segplot116.png',\n",
       " '/scicore/home/nimwegen/witzg/DeepLearningData/Learn20170126_watershed/good/segplot42.png',\n",
       " '/scicore/home/nimwegen/witzg/DeepLearningData/Learn20170126_watershed/good/segplot62.png',\n",
       " '/scicore/home/nimwegen/witzg/DeepLearningData/Learn20170126_watershed/good/segplot70.png',\n",
       " '/scicore/home/nimwegen/witzg/DeepLearningData/Learn20170126_watershed/good/segplot165.png',\n",
       " '/scicore/home/nimwegen/witzg/DeepLearningData/Learn20170126_watershed/good/segplot138.png',\n",
       " '/scicore/home/nimwegen/witzg/DeepLearningData/Learn20170126_watershed/good/segplot82.png',\n",
       " '/scicore/home/nimwegen/witzg/DeepLearningData/Learn20170126_watershed/good/segplot113.png',\n",
       " '/scicore/home/nimwegen/witzg/DeepLearningData/Learn20170126_watershed/good/segplot154.png',\n",
       " '/scicore/home/nimwegen/witzg/DeepLearningData/Learn20170126_watershed/good/segplot37.png',\n",
       " '/scicore/home/nimwegen/witzg/DeepLearningData/Learn20170126_watershed/good/segplot144.png',\n",
       " '/scicore/home/nimwegen/witzg/DeepLearningData/Learn20170126_watershed/good/segplot118.png',\n",
       " '/scicore/home/nimwegen/witzg/DeepLearningData/Learn20170126_watershed/good/segplot40.png',\n",
       " '/scicore/home/nimwegen/witzg/DeepLearningData/Learn20170126_watershed/good/segplot164.png',\n",
       " '/scicore/home/nimwegen/witzg/DeepLearningData/Learn20170126_watershed/good/segplot152.png',\n",
       " '/scicore/home/nimwegen/witzg/DeepLearningData/Learn20170126_watershed/good/segplot145.png',\n",
       " '/scicore/home/nimwegen/witzg/DeepLearningData/Learn20170126_watershed/good/segplot41.png',\n",
       " '/scicore/home/nimwegen/witzg/DeepLearningData/Learn20170126_watershed/good/segplot161.png',\n",
       " '/scicore/home/nimwegen/witzg/DeepLearningData/Learn20170126_watershed/good/segplot153.png',\n",
       " '/scicore/home/nimwegen/witzg/DeepLearningData/Learn20170126_watershed/good/segplot162.png',\n",
       " '/scicore/home/nimwegen/witzg/DeepLearningData/Learn20170126_watershed/good/segplot81.png',\n",
       " '/scicore/home/nimwegen/witzg/DeepLearningData/Learn20170126_watershed/good/segplot158.png',\n",
       " '/scicore/home/nimwegen/witzg/DeepLearningData/Learn20170126_watershed/good/segplot117.png',\n",
       " '/scicore/home/nimwegen/witzg/DeepLearningData/Learn20170126_watershed/good/segplot34.png',\n",
       " '/scicore/home/nimwegen/witzg/DeepLearningData/Learn20170126_watershed/good/segplot69.png',\n",
       " '/scicore/home/nimwegen/witzg/DeepLearningData/Learn20170126_watershed/good/segplot110.png',\n",
       " '/scicore/home/nimwegen/witzg/DeepLearningData/Learn20170126_watershed/good/segplot132.png',\n",
       " '/scicore/home/nimwegen/witzg/DeepLearningData/Learn20170126_watershed/good/segplot111.png',\n",
       " '/scicore/home/nimwegen/witzg/DeepLearningData/Learn20170126_watershed/good/segplot33.png']"
      ]
     },
     "execution_count": 206,
     "metadata": {},
     "output_type": "execute_result"
    }
   ],
   "source": [
    "good_seg"
   ]
  },
  {
   "cell_type": "code",
   "execution_count": 207,
   "metadata": {},
   "outputs": [],
   "source": [
    "pos_indices = [int(re.findall('.*?(\\d*).png',x)[0]) for x in good_seg]\n",
    "numpos = len(pos_indices)"
   ]
  },
  {
   "cell_type": "code",
   "execution_count": 208,
   "metadata": {},
   "outputs": [],
   "source": [
    "mid_plane = int((MMobj.num_planes[bf_ch]-1)/2)"
   ]
  },
  {
   "cell_type": "code",
   "execution_count": 209,
   "metadata": {},
   "outputs": [],
   "source": [
    "all_masks = np.empty((MMobj.height, MMobj.width,numpos))\n",
    "all_weights = np.empty((MMobj.height,MMobj.width,numpos))\n",
    "all_planes = np.empty((MMobj.height,MMobj.width,3, numpos)) "
   ]
  },
  {
   "cell_type": "code",
   "execution_count": 216,
   "metadata": {},
   "outputs": [
    {
     "name": "stdout",
     "output_type": "stream",
     "text": [
      "10.017075287376533\n",
      "61.08260140566294\n"
     ]
    }
   ],
   "source": [
    "all_masks = np.empty((MMobj.height, MMobj.width,numpos))\n",
    "all_weights = np.empty((MMobj.height,MMobj.width,numpos))\n",
    "for i in range(numpos):\n",
    "    all_masks[:,:,i] = np.load(path_to_save+'/mask_'+str(pos_indices[i])+'.npy')\n",
    "cellfrac = np.sum(all_masks)/all_masks.ravel().shape[0]\n",
    "factor = (1-cellfrac)/cellfrac\n",
    "print(factor)"
   ]
  },
  {
   "cell_type": "code",
   "execution_count": 272,
   "metadata": {},
   "outputs": [
    {
     "name": "stdout",
     "output_type": "stream",
     "text": [
      "0\n",
      "1\n",
      "2\n",
      "3\n",
      "4\n",
      "5\n",
      "6\n",
      "7\n",
      "8\n",
      "9\n",
      "10\n",
      "11\n",
      "12\n",
      "13\n",
      "14\n",
      "15\n",
      "16\n",
      "17\n",
      "18\n",
      "19\n",
      "20\n",
      "21\n",
      "22\n",
      "23\n",
      "24\n",
      "25\n",
      "26\n",
      "27\n",
      "28\n",
      "29\n",
      "30\n",
      "31\n",
      "32\n",
      "33\n",
      "34\n",
      "35\n"
     ]
    }
   ],
   "source": [
    "path_to_save_crops ='/scicore/home/nimwegen/witzg/DeepLearningData/Learn20170126_watershed/crops/'\n",
    "if not os.path.exists(path_to_save_crops):\n",
    "    os.makedirs(path_to_save_crops)\n",
    "\n",
    "unitsize = 128\n",
    "numsplits = int(all_masks.shape[0]/unitsize)\n",
    "\n",
    "channels = 10#1\n",
    "image_rows = unitsize#128\n",
    "image_cols = unitsize#128\n",
    "\n",
    "all_planes = np.empty((MMobj.height,MMobj.width,21))\n",
    "glob_counter = 0\n",
    "for i in range(numpos):\n",
    "    print(i)\n",
    "    mask = np.load(path_to_save+'/mask_'+str(pos_indices[i])+'.npy')\n",
    "    weight = np.load(path_to_save+'/weight_'+str(pos_indices[i])+'.npy').astype(int)\n",
    "    \n",
    "    weight = morpho.binary_dilation(weight,selem = morpho.disk(radius=1)).astype(int)\n",
    "    mask[weight==1]=0\n",
    "    \n",
    "    weight[weight==1] = 200\n",
    "    weight[weight==0] = 1\n",
    "    weight[mask==1] = int(factor)\n",
    "\n",
    "    for j in range(21):\n",
    "        plane = mid_plane-10+j\n",
    "        all_planes[:,:,j] = MMobj.get_image_fast(frame=0,channel=bf_ch,plane=plane,position=pos_indices[i], compress = 1)\n",
    "    \n",
    "    for m in range(numsplits):\n",
    "        for n in range(numsplits):\n",
    "                init_rand = np.random.randint(0,21-10+1)\n",
    "                img = all_planes[m*unitsize:(m+1)*unitsize,n*unitsize:(n+1)*unitsize,init_rand:init_rand+10]\n",
    "    \n",
    "                for q in range(img.shape[2]):\n",
    "                    img[:,:,q] = nd.gaussian_filter(img[:,:,q],3)\n",
    "\n",
    "                '''meanstack = np.mean(img,axis =2)\n",
    "                for q in range(img.shape[2]):\n",
    "                    img[:,:,q] = img[:,:,q]-meanstack'''\n",
    "\n",
    "                img = img-np.mean(img)\n",
    "                img = img/np.std(img)\n",
    "\n",
    "                img_mask = 255*mask[m*image_rows:(m+1)*image_rows,n*image_cols:(n+1)*image_cols]\n",
    "                img_weight = weight[m*image_rows:(m+1)*image_rows,n*image_cols:(n+1)*image_cols]\n",
    "                \n",
    "                np.save(path_to_save_crops+'/img_'+str(glob_counter)+'.npy', img)\n",
    "                np.save(path_to_save_crops+'/img_mask_'+str(glob_counter)+'.npy', img_mask)\n",
    "                np.save(path_to_save_crops+'/img_weight_'+str(glob_counter)+'.npy', img_weight)\n",
    "                glob_counter+=1\n"
   ]
  },
  {
   "cell_type": "code",
   "execution_count": 273,
   "metadata": {},
   "outputs": [
    {
     "data": {
      "text/plain": [
       "288.0"
      ]
     },
     "execution_count": 273,
     "metadata": {},
     "output_type": "execute_result"
    }
   ],
   "source": [
    "glob_counter/32"
   ]
  },
  {
   "cell_type": "code",
   "execution_count": 274,
   "metadata": {},
   "outputs": [],
   "source": [
    "shuffle = np.random.choice(glob_counter, glob_counter, replace=False)"
   ]
  },
  {
   "cell_type": "code",
   "execution_count": 275,
   "metadata": {},
   "outputs": [],
   "source": [
    "path_to_save_batches ='/scicore/home/nimwegen/witzg/DeepLearningData/Learn20170126_watershed/batches_thin/'\n",
    "if not os.path.exists(path_to_save_batches):\n",
    "    os.makedirs(path_to_save_batches)"
   ]
  },
  {
   "cell_type": "code",
   "execution_count": 276,
   "metadata": {},
   "outputs": [],
   "source": [
    "batchsize = 32"
   ]
  },
  {
   "cell_type": "code",
   "execution_count": 277,
   "metadata": {},
   "outputs": [],
   "source": [
    "numbatches = int(np.round(glob_counter/batchsize))"
   ]
  },
  {
   "cell_type": "code",
   "execution_count": 278,
   "metadata": {},
   "outputs": [],
   "source": [
    "numtrain = int(numbatches*0.8)\n",
    "numvalid = numbatches-numtrain"
   ]
  },
  {
   "cell_type": "code",
   "execution_count": 279,
   "metadata": {},
   "outputs": [],
   "source": [
    "'''numbatches = 10\n",
    "numtrain = 8\n",
    "numvalid = 2'''\n",
    "channels = 10\n",
    "for b in range(numbatches):\n",
    "    imgs = np.ndarray((batchsize, unitsize, unitsize,channels), dtype=np.float64)\n",
    "    imgs_mask = np.ndarray((batchsize, unitsize, unitsize), dtype=np.uint8)\n",
    "    imgs_weight = np.ndarray((batchsize, unitsize, unitsize), dtype=np.uint8)\n",
    "    \n",
    "    cur_shuffle = shuffle[batchsize*b:batchsize*(b+1)]\n",
    "    for c in range(batchsize):\n",
    "        imgs[c,:,:,:] = np.load(path_to_save_crops+'/img_'+str(cur_shuffle[c])+'.npy')\n",
    "        imgs_mask[c,:,:] = np.load(path_to_save_crops+'/img_mask_'+str(cur_shuffle[c])+'.npy')\n",
    "        imgs_weight[c,:,:] = np.load(path_to_save_crops+'/img_weight_'+str(cur_shuffle[c])+'.npy')\n",
    "    if b<numtrain:\n",
    "        np.save(path_to_save_batches+'/imgs_train_'+str(b)+'.npy', imgs)\n",
    "        np.save(path_to_save_batches+'/imgs_mask_train_'+str(b)+'.npy', imgs_mask.reshape((batchsize,unitsize*unitsize)))\n",
    "        np.save(path_to_save_batches+'/imgs_weight_train_'+str(b)+'.npy', imgs_weight.reshape((batchsize,unitsize*unitsize)))\n",
    "    else:\n",
    "        np.save(path_to_save_batches+'/imgs_valid_'+str(b-numtrain)+'.npy', imgs)\n",
    "        np.save(path_to_save_batches+'/imgs_mask_valid_'+str(b-numtrain)+'.npy', imgs_mask.reshape((batchsize,unitsize*unitsize)))\n",
    "        np.save(path_to_save_batches+'/imgs_weight_valid_'+str(b-numtrain)+'.npy', imgs_weight.reshape((batchsize,unitsize*unitsize)))\n",
    "\n"
   ]
  },
  {
   "cell_type": "code",
   "execution_count": 282,
   "metadata": {},
   "outputs": [
    {
     "data": {
      "image/png": "[encoded data removed]",
      "text/plain": [
       "<Figure size 720x720 with 2 Axes>"
      ]
     },
     "metadata": {},
     "output_type": "display_data"
    }
   ],
   "source": [
    "#check individul examples of training set\n",
    "fig, ax = plt.subplots(figsize=(10,10))\n",
    "plt.subplot(1,2,1)\n",
    "id = 31\n",
    "plt.imshow(imgs[id,:,:,9],cmap = 'gray')\n",
    "plt.imshow(np.reshape(imgs_mask[id,:],(image_rows,image_cols)),alpha = 0.5, cmap = 'Reds')\n",
    "plt.subplot(1,2,2)\n",
    "plt.imshow(imgs[id,:,:,9],cmap = 'gray')\n",
    "plt.imshow(np.reshape(imgs_weight[id,:],(image_rows,image_cols)),alpha = 0.5, cmap = 'Reds')\n",
    "plt.show()"
   ]
  },
  {
   "cell_type": "code",
   "execution_count": 198,
   "metadata": {},
   "outputs": [
    {
     "data": {
      "text/plain": [
       "array([  1,  10, 200], dtype=uint8)"
      ]
     },
     "execution_count": 198,
     "metadata": {},
     "output_type": "execute_result"
    }
   ],
   "source": [
    "np.unique(np.reshape(imgs_weight[id,:],(image_rows,image_cols)))"
   ]
  },
  {
   "cell_type": "code",
   "execution_count": null,
   "metadata": {},
   "outputs": [],
   "source": []
  }
 ],
 "metadata": {
  "kernelspec": {
   "display_name": "Python 3",
   "language": "python",
   "name": "python3"
  },
  "language_info": {
   "codemirror_mode": {
    "name": "ipython",
    "version": 3
   },
   "file_extension": ".py",
   "mimetype": "text/x-python",
   "name": "python",
   "nbconvert_exporter": "python",
   "pygments_lexer": "ipython3",
   "version": "3.5.2"
  }
 },
 "nbformat": 4,
 "nbformat_minor": 2
}
