{
 "cells": [
  {
   "cell_type": "code",
   "execution_count": 1,
   "metadata": {},
   "outputs": [],
   "source": [
    "import sys, os, re\n",
    "import numpy as np\n",
    "import matplotlib.pyplot as plt\n",
    "\n",
    "from skimage.color import label2rgb\n",
    "from skimage.measure import label, regionprops\n",
    "from skimage import morphology\n",
    "from scipy import ndimage\n",
    "\n",
    "from deeplate.MMdata import MMData"
   ]
  },
  {
   "cell_type": "code",
   "execution_count": 2,
   "metadata": {},
   "outputs": [],
   "source": [
    "data_folder = '/scicore/home/nimwegen/urchuegu/projects/prj_noise_across_conditions_main/cell_size/data/20170126/201710126_lowerbound/'\n",
    "folder = '/scicore/home/nimwegen/witzg/DeepPlateAnalysis/usingsubset6/Analysis_201710126_lowerbound/'"
   ]
  },
  {
   "cell_type": "code",
   "execution_count": 3,
   "metadata": {},
   "outputs": [],
   "source": [
    "posid = [re.findall('(?<=maskcorrect_)(\\d+)(?=\\.npy)',f) for f in os.listdir(folder)]\n",
    "posid = [int(x[0]) for x in posid if len(x)>0]"
   ]
  },
  {
   "cell_type": "code",
   "execution_count": 5,
   "metadata": {},
   "outputs": [],
   "source": [
    "MMobj = MMData(folder = data_folder)"
   ]
  },
  {
   "cell_type": "code",
   "execution_count": 13,
   "metadata": {},
   "outputs": [],
   "source": [
    "mask = label(np.load(folder+'maskcorrect_'+str(posid[0])+'.npy'))\n",
    "all_correlations = np.empty((mask.shape[0],mask.shape[1],len(posid)))\n",
    "all_masks = np.empty((mask.shape[0],mask.shape[1],len(posid)))\n",
    "all_weights = np.empty((mask.shape[0],mask.shape[1],len(posid)))\n",
    "\n",
    "all_planes = np.empty((mask.shape[0],mask.shape[1],3, len(posid)))\n",
    "\n",
    "for i in range(len(posid)):\n",
    "    all_masks[:,:,i] = np.load(folder+'maskcorrect_'+str(posid[i])+'.npy')\n",
    "    all_weights[:,:,i] = np.load(folder+'weightcorrect_'+str(posid[i])+'.npy')\n",
    "    all_correlations[:,:,i] = np.load(folder+'corr_'+str(posid[i])+'.npy')\n",
    "    "
   ]
  },
  {
   "cell_type": "code",
   "execution_count": 23,
   "metadata": {},
   "outputs": [
    {
     "data": {
      "text/plain": [
       "1"
      ]
     },
     "execution_count": 23,
     "metadata": {},
     "output_type": "execute_result"
    }
   ],
   "source": [
    "np.random.randint(1,30,1000).min()"
   ]
  },
  {
   "cell_type": "code",
   "execution_count": 20,
   "metadata": {},
   "outputs": [
    {
     "data": {
      "image/png": "[encoded data removed]",
      "text/plain": [
       "<Figure size 432x288 with 1 Axes>"
      ]
     },
     "metadata": {},
     "output_type": "display_data"
    }
   ],
   "source": [
    "plt.hist(np.random.randint(1,29,100),bins = np.arange(0,30,1))\n",
    "plt.show()"
   ]
  },
  {
   "cell_type": "code",
   "execution_count": 6,
   "metadata": {},
   "outputs": [
    {
     "data": {
      "text/plain": [
       "[1, 31]"
      ]
     },
     "execution_count": 6,
     "metadata": {},
     "output_type": "execute_result"
    }
   ],
   "source": [
    "MMobj.num_planes"
   ]
  },
  {
   "cell_type": "code",
   "execution_count": null,
   "metadata": {},
   "outputs": [],
   "source": [
    "np.random.randint(1,30,1000).min()\n",
    "all_planes[:,:,j,i] = MMobj.get_image(frame=0,channel=0,plane=0,position=0, compress = 1):"
   ]
  }
 ],
 "metadata": {
  "kernelspec": {
   "display_name": "Python 3",
   "language": "python",
   "name": "python3"
  },
  "language_info": {
   "codemirror_mode": {
    "name": "ipython",
    "version": 3
   },
   "file_extension": ".py",
   "mimetype": "text/x-python",
   "name": "python",
   "nbconvert_exporter": "python",
   "pygments_lexer": "ipython3",
   "version": "3.5.2"
  }
 },
 "nbformat": 4,
 "nbformat_minor": 2
}
