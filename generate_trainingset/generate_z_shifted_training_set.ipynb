{
 "cells": [
  {
   "cell_type": "code",
   "execution_count": 3,
   "metadata": {},
   "outputs": [],
   "source": [
    "import sys, os, re\n",
    "import numpy as np\n",
    "import matplotlib.pyplot as plt\n",
    "\n",
    "from skimage.color import label2rgb\n",
    "from skimage.measure import label, regionprops\n",
    "from skimage import morphology\n",
    "from scipy import ndimage\n",
    "\n",
    "from deeplate.MMdata import MMData"
   ]
  },
  {
   "cell_type": "code",
   "execution_count": 2,
   "metadata": {},
   "outputs": [],
   "source": [
    "data_folder = '/scicore/home/nimwegen/urchuegu/projects/prj_noise_across_conditions_main/cell_size/data/20170126/201710126_lowerbound/'\n",
    "folder = '/scicore/home/nimwegen/witzg/DeepPlateAnalysis/usingsubset6/Analysis_201710126_lowerbound/'"
   ]
  },
  {
   "cell_type": "code",
   "execution_count": 3,
   "metadata": {},
   "outputs": [],
   "source": [
    "posid = [re.findall('(?<=maskcorrect_)(\\d+)(?=\\.npy)',f) for f in os.listdir(folder)]\n",
    "posid = [int(x[0]) for x in posid if len(x)>0]"
   ]
  },
  {
   "cell_type": "code",
   "execution_count": 5,
   "metadata": {},
   "outputs": [],
   "source": [
    "MMobj = MMData(folder = data_folder)"
   ]
  },
  {
   "cell_type": "code",
   "execution_count": null,
   "metadata": {},
   "outputs": [],
   "source": [
    "print(MMobj.channels)"
   ]
  },
  {
   "cell_type": "code",
   "execution_count": null,
   "metadata": {},
   "outputs": [],
   "source": [
    "#based on the above outpout set fluo and bright field channels\n",
    "fluo_ch = 0\n",
    "bf_ch = 1"
   ]
  },
  {
   "cell_type": "code",
   "execution_count": null,
   "metadata": {},
   "outputs": [],
   "source": [
    "mid_plane = int((MMobj.num_planes[bf_ch]-1)/2)"
   ]
  },
  {
   "cell_type": "code",
   "execution_count": 13,
   "metadata": {},
   "outputs": [],
   "source": [
    "mask = label(np.load(folder+'maskcorrect_'+str(posid[0])+'.npy'))\n",
    "all_correlations = np.empty((mask.shape[0],mask.shape[1],len(posid)))\n",
    "all_masks = np.empty((mask.shape[0],mask.shape[1],len(posid)))\n",
    "all_weights = np.empty((mask.shape[0],mask.shape[1],len(posid)))\n",
    "\n",
    "all_planes = np.empty((mask.shape[0],mask.shape[1],3, len(posid)))\n",
    "\n",
    "for i in range(len(posid)):\n",
    "    all_masks[:,:,i] = np.load(folder+'maskcorrect_'+str(posid[i])+'.npy')\n",
    "    all_weights[:,:,i] = np.load(folder+'weightcorrect_'+str(posid[i])+'.npy')\n",
    "    all_correlations[:,:,i] = np.load(folder+'corr_'+str(posid[i])+'.npy')\n",
    "    \n",
    "    mid = np.random.randint(mid_plane-5,mid_plane+6)\n",
    "    for j in range(3):\n",
    "        plane = mid-1+i\n",
    "        all_planes[:,:,j,i] = MMobj.get_image(frame=0,channel=bf_ch,plane=plane,position=posid[i], compress = 1)\n",
    "    "
   ]
  },
  {
   "cell_type": "code",
   "execution_count": null,
   "metadata": {},
   "outputs": [],
   "source": [
    "numsplits = int(all_masks.shape[0]/128)\n",
    "numimages = all_masks.shape[2]\n",
    "\n",
    "#Definition of structures containing training and test datasets\n",
    "#Dimensions and size of training and test datasets\n",
    "channels = 3\n",
    "image_rows = 128\n",
    "image_cols = 128\n",
    "num_test = 20\n",
    "num_train = 2*((numsplits**2*numimages)-num_test)\n",
    "\n",
    "\n",
    "imgs = np.ndarray((num_train, image_rows, image_cols,channels), dtype=np.float64)\n",
    "imgs_mask = np.ndarray((num_train, image_rows, image_cols), dtype=np.uint8)\n",
    "imgs_weight = np.ndarray((num_train, image_rows, image_cols), dtype=np.uint8)\n",
    "imgs_test = np.ndarray((num_test, image_rows, image_cols,channels), dtype=np.float64)\n",
    "imgs_id = np.ndarray((num_test, ), dtype=np.int32)\n",
    "\n",
    "listpos = []\n",
    "for k in range(numimages):\n",
    "    for i in range(numsplits):\n",
    "        for j in range(numsplits):\n",
    "            listpos.append([i,j,k])\n",
    "            \n",
    "shuffle = np.random.choice(len(listpos), len(listpos), replace=False)\n",
    "\n",
    "all_weights[all_weights==1] = 200\n",
    "all_weights[all_masks==1] = 20\n",
    "all_weights[all_weights==0] = 1"
   ]
  },
  {
   "cell_type": "code",
   "execution_count": null,
   "metadata": {},
   "outputs": [],
   "source": [
    "fig, ax = plt.subplots(figsize=(20,20))\n",
    "plt.imshow(all_planes[:,:,0,3],cmap= 'gray')\n",
    "plt.imshow(all_weights[:,:,3],alpha = 0.5,cmap='Reds')\n",
    "plt.show()"
   ]
  },
  {
   "cell_type": "code",
   "execution_count": null,
   "metadata": {},
   "outputs": [],
   "source": [
    "counter_test = 0\n",
    "for counter in range(len(listpos)):\n",
    "    i=listpos[shuffle[counter]][0]\n",
    "    j=listpos[shuffle[counter]][1]\n",
    "    k=listpos[shuffle[counter]][2]\n",
    "    \n",
    "    img = all_planes[i*128:(i+1)*128,j*128:(j+1)*128,:,k]\n",
    "    randint = np.random.rand() \n",
    "    if np.random.rand()<0.5: randint = 10*randint\n",
    "    #randint = 100*randint\n",
    "    img = img*randint\n",
    "    img_mask = 255*all_masks[i*128:(i+1)*128,j*128:(j+1)*128,k]\n",
    "    img_weight = all_weights[i*128:(i+1)*128,j*128:(j+1)*128,k]\n",
    "            \n",
    "    if 2*counter<num_train:\n",
    "        if channels==1:\n",
    "            imgs[2*counter] = img[..., np.newaxis]\n",
    "            img = img.T\n",
    "            imgs[2*counter+1] = img[..., np.newaxis]\n",
    "        else:\n",
    "            imgs[2*counter] = img\n",
    "            img = img.T\n",
    "            imgs[2*counter+1] = img\n",
    "        imgs_mask[2*counter] = img_mask\n",
    "        img_mask = img_mask.T\n",
    "        imgs_mask[2*counter+1] = img_mask\n",
    "        imgs_weight[2*counter] = img_weight\n",
    "        img_weight = img_weight.T\n",
    "        imgs_weight[2*counter+1] = img_weight\n",
    "    else:\n",
    "        if channels==1:\n",
    "            imgs_test[counter_test] = img[..., np.newaxis]\n",
    "        else:\n",
    "            imgs_test[counter_test] = img\n",
    "\n",
    "        imgs_id[counter_test] = counter_test\n",
    "        counter_test+=1"
   ]
  }
 ],
 "metadata": {
  "kernelspec": {
   "display_name": "Python 3",
   "language": "python",
   "name": "python3"
  },
  "language_info": {
   "codemirror_mode": {
    "name": "ipython",
    "version": 3
   },
   "file_extension": ".py",
   "mimetype": "text/x-python",
   "name": "python",
   "nbconvert_exporter": "python",
   "pygments_lexer": "ipython3",
   "version": "3.6.1"
  }
 },
 "nbformat": 4,
 "nbformat_minor": 2
}
