{
 "cells": [
  {
   "cell_type": "code",
   "execution_count": 1,
   "metadata": {},
   "outputs": [
    {
     "name": "stderr",
     "output_type": "stream",
     "text": [
      "/scicore/home/nimwegen/witzg/DeepPlateSegmenter/venv-deeplate/lib/python3.5/site-packages/h5py/__init__.py:36: FutureWarning: Conversion of the second argument of issubdtype from `float` to `np.floating` is deprecated. In future, it will be treated as `np.float64 == np.dtype(float).type`.\n",
      "  from ._conv import register_converters as _register_converters\n",
      "Using TensorFlow backend.\n"
     ]
    }
   ],
   "source": [
    "import sys, os, re\n",
    "import numpy as np\n",
    "import matplotlib.pyplot as plt\n",
    "\n",
    "from matplotlib.colors import ListedColormap\n",
    "from matplotlib.path import Path\n",
    "import scipy.ndimage as nd\n",
    "from skimage.segmentation import active_contour\n",
    "from skimage.color import label2rgb\n",
    "import skimage.morphology as morpho\n",
    "from skimage.measure import regionprops, label, find_contours\n",
    "\n",
    "from deeplate.MMdata import MMData \n",
    "import deeplate.platesegmenter as ps"
   ]
  },
  {
   "cell_type": "code",
   "execution_count": 2,
   "metadata": {},
   "outputs": [],
   "source": [
    "#define data folder\n",
    "\n",
    "folder = '/scicore/home/nimwegen/urchuegu/projects/prj_noise_across_conditions_main/cell_size/data/20170126/201710126_lowerbound'\n",
    "#folder = '/Volumes/MusiqueHD/20170126_lowerbound'"
   ]
  },
  {
   "cell_type": "code",
   "execution_count": 4,
   "metadata": {},
   "outputs": [],
   "source": [
    "#create micromanager data object and define metadata\n",
    "MMobj = MMData(folder = folder)\n",
    "positions, well = MMobj.get_position_names()\n",
    "well_index = np.ravel([[x for x in range(well.shape[0]) if well[x] in y] for y in positions])\n",
    "z_step = MMobj.get_zstep()"
   ]
  },
  {
   "cell_type": "code",
   "execution_count": 5,
   "metadata": {},
   "outputs": [
    {
     "name": "stdout",
     "output_type": "stream",
     "text": [
      "['GFP', 'DIA (GFP)']\n"
     ]
    }
   ],
   "source": [
    "#this shows you the order of color acqusition\n",
    "print(MMobj.channels)"
   ]
  },
  {
   "cell_type": "code",
   "execution_count": 6,
   "metadata": {},
   "outputs": [],
   "source": [
    "#based on the above outpout set fluo and bright field channels\n",
    "fluo_ch = 0\n",
    "bf_ch = 1"
   ]
  },
  {
   "cell_type": "code",
   "execution_count": 14,
   "metadata": {},
   "outputs": [],
   "source": [
    "#choose which positions should be used to create training dataset.\n",
    "#Leave as chosen_pos = [] if you just want to analyze all images in the dataset.\n",
    "chosen_pos = ['B3-Site_2','B11-Site_0','B11-Site_1','B11-Site_2','B9-Site_1','B8-Site_1','B10-Site_2']"
   ]
  },
  {
   "cell_type": "code",
   "execution_count": 47,
   "metadata": {},
   "outputs": [],
   "source": [
    "#where should training data be saved\n",
    "path_to_save = '/scicore/home/nimwegen/witzg/DeepLearningData/Learn20170126/'\n",
    "#path_to_save = '/Users/guillaume/Desktop/PostdocBasel/PlateSegmenter_Python_Git/DeepPlate/Learn201710126/'\n",
    "    \n",
    "#Dimensions and size of training and test datasets\n",
    "channels = 1\n",
    "image_rows = 96\n",
    "image_cols = 96\n",
    "num_train = 50000\n",
    "num_test = 20"
   ]
  },
  {
   "cell_type": "code",
   "execution_count": 17,
   "metadata": {},
   "outputs": [],
   "source": [
    "#Definition of structures containing training and test datasets\n",
    "num_tot = num_train+num_test\n",
    "imgs = np.ndarray((num_train, image_rows, image_cols,channels), dtype=np.float64)\n",
    "imgs_mask = np.ndarray((num_train, image_rows, image_cols), dtype=np.uint8)\n",
    "imgs_weight = np.ndarray((num_train, image_rows, image_cols), dtype=np.uint8)\n",
    "imgs_weight[:]=1\n",
    "imgs_test = np.ndarray((num_test, image_rows, image_cols,channels), dtype=np.float64)\n",
    "imgs_id = np.ndarray((num_test, ), dtype=np.int32)\n",
    "pos_tracker = np.ndarray((num_train, ), dtype=np.int32)"
   ]
  },
  {
   "cell_type": "code",
   "execution_count": null,
   "metadata": {},
   "outputs": [],
   "source": [
    "#Generate training/test dataset. Loads images sequentially, segments cells based on fluorescnce,\n",
    "#saves a croped image around each cell as single training example. As long as the desired number of \n",
    "#training/test dataset is not reached, new images are loaded and analyzed.\n",
    "counter = 0\n",
    "poscount = 0\n",
    "unfinished = False\n",
    "disk = morpho.disk(radius=4)\n",
    "if len(chosen_pos)==0:\n",
    "    chosen_pos = positions\n",
    "while counter<num_tot:\n",
    "    if poscount==len(chosen_pos):\n",
    "        print(\"you did not select enough positions to create the required training set\")\n",
    "        unfinished = True\n",
    "        break\n",
    "    print('This is image #'+str(poscount)+': '+chosen_pos[poscount])\n",
    "    \n",
    "    #define current position to analyze\n",
    "    position = np.argwhere(np.array(positions)==chosen_pos[poscount])[0][0]\n",
    "    poscount+=1\n",
    "    \n",
    "    #load fluorescence image and gaussian filter it\n",
    "    imfluo = MMobj.get_stack(frame=0,channel=fluo_ch,position=position, compress = 1)[:,:,0]\n",
    "    imfluo_gauss = nd.gaussian_filter(imfluo,3)\n",
    "    \n",
    "    #calculate image gradient. Any pixel with significant gradient is used to calculate an average cell fluorecence\n",
    "    imgrad = np.gradient(imfluo_gauss)\n",
    "    imgrad = np.sqrt(imgrad[0]**2+imgrad[1]**2)\n",
    "    mean_fluo = np.mean(imfluo[imgrad>100])\n",
    "\n",
    "    #load bf stack and calculated correlation image\n",
    "    stack = MMobj.get_stack(frame=0,channel=bf_ch,position=position, compress = 1)    \n",
    "    correlated_norm = ps.phase_corr_simple(stack,thickness=800,z_step=z_step)\n",
    "    correlated_norm_gauss = nd.gaussian_filter(correlated_norm,3)\n",
    "    \n",
    "    #filter fluo image with cross-correlation steerable filters. \n",
    "    #This enhances both cell interior regions (negative) and regions where cells touch (positive)\n",
    "    steer_all = np.zeros((imfluo.shape[0],imfluo.shape[1], 20))\n",
    "    for i in range(20):\n",
    "        steer_all[:,:,i] = ps.steerable2_crosscorr(imfluo_gauss, i*np.pi/20,1.5)\n",
    "    fluo_steer = np.max(steer_all, axis = 2)\n",
    "    \n",
    "    #make maks for negative regions (cells). Exclude low intensity regions which are not cells\n",
    "    fluo_steer_mask = np.zeros(fluo_steer.shape)\n",
    "    fluo_steer_mask[fluo_steer<0] = 1\n",
    "    fluo_steer_mask[imfluo_gauss<0.8*mean_fluo]=0\n",
    "    fluo_mask_lab = label(fluo_steer_mask)\n",
    "\n",
    "    #Analyze each mask region and keep reasonably shaped ones\n",
    "    cell_info = regionprops(fluo_mask_lab)\n",
    "    cell_info = [x for x in cell_info if (x.area>100)&(x.solidity>0.75)]\n",
    "    newMask = np.zeros(fluo_mask_lab.shape)\n",
    "    for i in range(len(cell_info)):\n",
    "        newMask[fluo_mask_lab == cell_info[i].label]=1\n",
    "    newMask_lab = label(newMask)\n",
    "    \n",
    "    cell_info = regionprops(newMask_lab)\n",
    "    img_all = np.pad(fluo_steer,20,mode = 'constant')\n",
    "    masktot = np.zeros(img_all.shape)\n",
    "    for cellid in range(len(cell_info)):\n",
    "\n",
    "        #cell mask clean-up and definition of cell contour\n",
    "        imlab_temp = np.pad(cell_info[cellid].image,3,mode = 'constant',constant_values=0)\n",
    "        imlab_temp = morpho.binary_closing(imlab_temp,selem=disk)\n",
    "        #imlab_temp = np.pad(imlab_temp,3,mode = 'constant',constant_values=0)\n",
    "\n",
    "        contours = find_contours(imlab_temp,0.5)\n",
    "        init = contours[0]+17*np.ones(contours[0].shape)\n",
    "        init = np.fliplr(init)\n",
    "        init = np.concatenate([[init[x,:],(init[x,:]+init[x+1,:])/2] for x in range(init.shape[0]-1)])\n",
    "\n",
    "        #image cropping and active contour smoothing\n",
    "        img = img_all[cell_info[cellid].bbox[0]+20-20:cell_info[cellid].bbox[2]+20+20,\n",
    "         cell_info[cellid].bbox[1]+20-20:cell_info[cellid].bbox[3]+20+20]\n",
    "\n",
    "        snake = active_contour(img, init,alpha=0.01, beta=1.0, w_line=0, w_edge=1, gamma=0.1)\n",
    "\n",
    "        #find pixels within boundary of new contour and create mask\n",
    "        cg = np.mean(snake,axis = 0)\n",
    "        snake = snake-np.repeat(np.array([cg]),snake.shape[0],axis =0)\n",
    "        snake = 1*snake\n",
    "        snake = snake+np.repeat(np.array([cg]),snake.shape[0],axis =0)\n",
    "\n",
    "        x, y = np.meshgrid(np.arange(img.shape[1]), np.arange(img.shape[0])) # make a canvas with coordinates\n",
    "        x, y = x.flatten(), y.flatten()\n",
    "        points = np.vstack((x,y)).T \n",
    "\n",
    "        p = Path(snake) # make a polygon\n",
    "        grid = p.contains_points(points)\n",
    "        mask = grid.reshape(img.shape[0],img.shape[1])\n",
    "\n",
    "        masktot[cell_info[cellid].bbox[0]+20-20:cell_info[cellid].bbox[2]+20+20,\n",
    "         cell_info[cellid].bbox[1]+20-20:cell_info[cellid].bbox[3]+20+20] = masktot[cell_info[cellid].bbox[0]+20-20:cell_info[cellid].bbox[2]+20+20,\n",
    "         cell_info[cellid].bbox[1]+20-20:cell_info[cellid].bbox[3]+20+20]+mask\n",
    "\n",
    "    #create a mask for the cell boundary. This mask is used to define the weight-image that helps the \n",
    "    #deep learning network to learn those important regions\n",
    "    masktot[masktot>0] = 1\n",
    "    distance = nd.distance_transform_edt(masktot)\n",
    "    distance[distance != 1] = 0\n",
    "    distance = morpho.binary_dilation(distance)\n",
    "    distance[masktot==1] = 0\n",
    "    distance = distance*10+1\n",
    "\n",
    "    distance = distance[20:-20,20:-20]\n",
    "    masktot = masktot[20:-20,20:-20]\n",
    "\n",
    "    #show segmentation result\n",
    "    fig, ax = plt.subplots(figsize=(20,20))\n",
    "    plt.imshow(1-correlated_norm,cmap='gray')\n",
    "    #plt.imshow(label(masktot),alpha = 0.5, cmap = ListedColormap ( np.random.rand ( 256,3)))\n",
    "    plt.imshow(label2rgb(label(masktot),bg_label=0),alpha = 0.5)\n",
    "    plt.show()\n",
    "    \n",
    "    #crop all cell regions and store each of them as learning/test exmaple\n",
    "    for s in cell_info:\n",
    "        center = np.round(s.centroid).astype(int)\n",
    "        if (center[0]>48)&(center[0]<2048-48-1)&(center[1]>48)&(center[1]<2048-48-1):\n",
    "            #img = stack[center[0]-48:center[0]+48,center[1]-48:center[1]+48,:]\n",
    "            img = correlated_norm_gauss[center[0]-48:center[0]+48,center[1]-48:center[1]+48]\n",
    "            img_mask = 255*masktot[center[0]-48:center[0]+48,center[1]-48:center[1]+48]\n",
    "            img_weight = distance[center[0]-48:center[0]+48,center[1]-48:center[1]+48]\n",
    "\n",
    "            if counter<num_train:\n",
    "                if channels==1:\n",
    "                    imgs[counter] = img[..., np.newaxis]\n",
    "                else:\n",
    "                    imgs[counter] = img\n",
    "                imgs_mask[counter] = img_mask\n",
    "                imgs_weight[counter] = img_weight\n",
    "                pos_tracker[counter] = poscount\n",
    "            else:\n",
    "                if channels==1:\n",
    "                    imgs_test[counter-num_train] = img[..., np.newaxis]\n",
    "                else:\n",
    "                    imgs_test[counter-num_train] = img\n",
    "                    \n",
    "                imgs_id[counter-num_train] = counter-num_train\n",
    "            counter+=1\n",
    "            if counter ==num_tot:\n",
    "                break\n",
    "        if counter ==num_tot:\n",
    "            break"
   ]
  },
  {
   "cell_type": "code",
   "execution_count": 38,
   "metadata": {},
   "outputs": [],
   "source": [
    "#random rescaling of images\n",
    "imgs_scale = imgs.copy()\n",
    "for i in range(imgs.shape[0]):\n",
    "    fact = 10\n",
    "    randint = np.random.rand()*(fact-1/fact)+1/fact\n",
    "    imgs_scale[i,:,:,:]*=randint"
   ]
  },
  {
   "cell_type": "code",
   "execution_count": null,
   "metadata": {},
   "outputs": [],
   "source": [
    "#save all the data structures\n",
    "if not os.path.exists(path_to_save):\n",
    "    os.makedirs(path_to_save)\n",
    "np.save(path_to_save+'imgs_train.npy', imgs)\n",
    "np.save(path_to_save+'imgs_mask_train.npy', imgs_mask.reshape((num_train,image_cols*image_rows)))\n",
    "np.save(path_to_save+'imgs_weight_train.npy', imgs_weight.reshape((num_train,image_cols*image_rows)))\n",
    "np.save(path_to_save+'imgs_test.npy', imgs_test)\n",
    "np.save(path_to_save+'imgs_id_test.npy', imgs_id)"
   ]
  },
  {
   "cell_type": "code",
   "execution_count": 55,
   "metadata": {},
   "outputs": [],
   "source": [
    "#save subset of all data structures\n",
    "if not os.path.exists(path_to_save):\n",
    "    os.makedirs(path_to_save)\n",
    "#np.save(path_to_save+'imgs_train.npy', imgs)\n",
    "np.save(path_to_save+'imgs_train.npy', imgs_scale[0:5000,::])\n",
    "\n",
    "np.save(path_to_save+'imgs_mask_train.npy', imgs_mask[0:5000,::].reshape((5000,image_cols*image_rows)))\n",
    "np.save(path_to_save+'imgs_weight_train.npy', imgs_weight[0:5000,::].reshape((5000,image_cols*image_rows)))\n",
    "np.save(path_to_save+'imgs_test.npy', imgs_scale[5000:5020,::])\n",
    "np.save(path_to_save+'imgs_id_test.npy', np.arange(num_test))"
   ]
  },
  {
   "cell_type": "code",
   "execution_count": 31,
   "metadata": {},
   "outputs": [
    {
     "data": {
      "image/png": "[encoded data removed]"
     },
     "output_type": "display_data",
     "metadata": {}
    }
   ],
   "source": [
    "#check individul examples of training set\n",
    "plt.subplot(1,2,1)\n",
    "id = 2000\n",
    "plt.imshow(imgs[id,:,:,0],cmap = 'gray')\n",
    "plt.imshow(np.reshape(imgs_mask[id,:],(96,96)),alpha = 0.5, cmap = 'Reds')\n",
    "plt.subplot(1,2,2)\n",
    "plt.imshow(imgs[id,:,:,0],cmap = 'gray')\n",
    "plt.imshow(np.reshape(imgs_weight[id,:],(96,96)),alpha = 0.5, cmap = 'Reds')\n",
    "plt.show()"
   ]
  }
 ],
 "metadata": {
  "kernelspec": {
   "display_name": "Python 3",
   "language": "python",
   "name": "python3"
  },
  "language_info": {
   "codemirror_mode": {
    "name": "ipython",
    "version": 3.0
   },
   "file_extension": ".py",
   "mimetype": "text/x-python",
   "name": "python",
   "nbconvert_exporter": "python",
   "pygments_lexer": "ipython3",
   "version": "3.5.2"
  }
 },
 "nbformat": 4,
 "nbformat_minor": 2
}