{
 "cells": [
  {
   "cell_type": "code",
   "execution_count": 65,
   "metadata": {},
   "outputs": [],
   "source": [
    "from deeplate.MMdata import MMData \n",
    "import os, stat"
   ]
  },
  {
   "cell_type": "code",
   "execution_count": 79,
   "metadata": {},
   "outputs": [],
   "source": [
    "folder = '/Volumes/MusiqueHD/201710126_lowerbound'\n",
    "folder_analyzed = '/Users/guillaume/Desktop/PostdocBasel/PlateData/Analysis_'+os.path.basename(folder)\n",
    "weights_folder  = '/Users/guillaume/Desktop/PostdocBasel/DeepLearningData/Learn20170126/'\n",
    "#weights_folder  = '/scicore/home/nimwegen/witzg/DeepLearningData/Learn20170126/'"
   ]
  },
  {
   "cell_type": "code",
   "execution_count": 80,
   "metadata": {},
   "outputs": [],
   "source": [
    "MMobj = MMData(folder = folder)\n",
    "positions, well = MMobj.get_position_names()"
   ]
  },
  {
   "cell_type": "code",
   "execution_count": 81,
   "metadata": {},
   "outputs": [
    {
     "name": "stdout",
     "output_type": "stream",
     "text": [
      "['GFP', 'DIA (GFP)']\n"
     ]
    }
   ],
   "source": [
    "MMobj = MMData(folder = folder)\n",
    "print(MMobj.channels)"
   ]
  },
  {
   "cell_type": "code",
   "execution_count": 82,
   "metadata": {},
   "outputs": [],
   "source": [
    "#based on the above outpout set fluo and bright field channels\n",
    "fluo_ch = 0\n",
    "bf_ch = 1"
   ]
  },
  {
   "cell_type": "code",
   "execution_count": 95,
   "metadata": {},
   "outputs": [],
   "source": [
    "if not os.path.exists(folder_analyzed):\n",
    "    os.makedirs(folder_analyzed)\n",
    "    \n",
    "filename = folder_analyzed+'/'+os.path.basename(folder)+positions[0]+'.sh'\n",
    "\n",
    "f = open(filename, \"w\")"
   ]
  },
  {
   "cell_type": "code",
   "execution_count": 96,
   "metadata": {},
   "outputs": [],
   "source": [
    "f.write('#!/bin/sh\\n')\n",
    "f.write('python3 deep_plate_analysis.py \"'+\n",
    "        folder+'\" \"'+weights_folder+'\" \"'+folder_analyzed+'\" '+str(0)+' '+str(bf_ch)+' '+str(fluo_ch)+' &')\n",
    "f.close()\n",
    "os.chmod(filename, stat.S_IRWXU)"
   ]
  },
  {
   "cell_type": "code",
   "execution_count": 87,
   "metadata": {},
   "outputs": [],
   "source": [
    "import subprocess"
   ]
  },
  {
   "cell_type": "code",
   "execution_count": 97,
   "metadata": {},
   "outputs": [
    {
     "data": {
      "text/plain": [
       "0"
      ]
     },
     "execution_count": 97,
     "metadata": {},
     "output_type": "execute_result"
    }
   ],
   "source": [
    "subprocess.call([filename])"
   ]
  }
 ],
 "metadata": {
  "kernelspec": {
   "display_name": "Python 3",
   "language": "python",
   "name": "python3"
  },
  "language_info": {
   "codemirror_mode": {
    "name": "ipython",
    "version": 3
   },
   "file_extension": ".py",
   "mimetype": "text/x-python",
   "name": "python",
   "nbconvert_exporter": "python",
   "pygments_lexer": "ipython3",
   "version": "3.6.1"
  }
 },
 "nbformat": 4,
 "nbformat_minor": 2
}
