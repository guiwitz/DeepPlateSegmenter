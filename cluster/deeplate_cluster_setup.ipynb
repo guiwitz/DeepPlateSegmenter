{
 "cells": [
  {
   "cell_type": "code",
   "execution_count": 34,
   "metadata": {},
   "outputs": [],
   "source": [
    "from deeplate.MMdata import MMData \n",
    "import os, stat\n",
    "import subprocess\n",
    "import numpy as np"
   ]
  },
  {
   "cell_type": "code",
   "execution_count": 39,
   "metadata": {},
   "outputs": [],
   "source": [
    "#Do not add the last slash\n",
    "\n",
    "#folder = '/Volumes/MusiqueHD/201710126_lowerbound'\n",
    "folder = '/scicore/home/nimwegen/urchuegu/projects/prj_noise_across_conditions_main/cell_size/data/20170126/201710126_lowerbound'\n",
    "#folder_analyzed = '/Users/guillaume/Desktop/PostdocBasel/PlateData/Analysis_'+os.path.basename(folder)+'/'\n",
    "folder_save = '/scicore/home/nimwegen/witzg/DeepPlateAnalysis'\n",
    "#weights_folder  = '/Users/guillaume/Desktop/PostdocBasel/DeepLearningData/Learn20170126/'\n",
    "weights_folder  = '/scicore/home/nimwegen/witzg/DeepLearningData/Learn20170126_subset_stack2'"
   ]
  },
  {
   "cell_type": "code",
   "execution_count": 40,
   "metadata": {},
   "outputs": [],
   "source": [
    "MMobj = MMData(folder = folder)\n",
    "positions, well = MMobj.get_position_names()"
   ]
  },
  {
   "cell_type": "code",
   "execution_count": 41,
   "metadata": {},
   "outputs": [],
   "source": [
    "#positions = positions[0:10]"
   ]
  },
  {
   "cell_type": "code",
   "execution_count": 42,
   "metadata": {},
   "outputs": [
    {
     "data": {
      "text/plain": [
       "57.0"
      ]
     },
     "execution_count": 42,
     "metadata": {},
     "output_type": "execute_result"
    }
   ],
   "source": [
    "len(positions)/4"
   ]
  },
  {
   "cell_type": "code",
   "execution_count": 43,
   "metadata": {},
   "outputs": [
    {
     "name": "stdout",
     "output_type": "stream",
     "text": [
      "['GFP', 'DIA (GFP)']\n"
     ]
    }
   ],
   "source": [
    "MMobj = MMData(folder = folder)\n",
    "print(MMobj.channels)"
   ]
  },
  {
   "cell_type": "code",
   "execution_count": 44,
   "metadata": {},
   "outputs": [],
   "source": [
    "#based on the above outpout set fluo and bright field channels\n",
    "fluo_ch = 0\n",
    "bf_ch = 1"
   ]
  },
  {
   "cell_type": "code",
   "execution_count": 45,
   "metadata": {},
   "outputs": [],
   "source": [
    "folder_analyzed = folder_save+'/Analysis_'+os.path.basename(folder)+'/'\n",
    "folder_logs = folder_save+'/Analysis_'+os.path.basename(folder)+'/logs/'\n",
    "if not os.path.exists(folder_analyzed):\n",
    "    os.makedirs(folder_logs)\n",
    "if not os.path.exists(folder_logs):\n",
    "    os.makedirs(folder_logs)"
   ]
  },
  {
   "cell_type": "code",
   "execution_count": 46,
   "metadata": {},
   "outputs": [],
   "source": [
    "basename = os.path.basename(folder)\n",
    "num_in_group = 5\n",
    "pos_seq = np.arange(len(positions))\n",
    "partitioned = [pos_seq[i:i+num_in_group] for i  in range(0, len(pos_seq), num_in_group)]\n",
    "for p in partitioned:\n",
    "    filename = folder_analyzed+basename+'_'+str(p[0])+'_'+str(p[-1])+'.sh'\n",
    "\n",
    "    f = open(filename, \"w\")\n",
    "    \n",
    "    #regular CPU\n",
    "    '''f.write('#!/bin/bash\\n')\n",
    "    f.write('#SBATCH --job-name=test_JOB2 \\n')\n",
    "    f.write('#SBATCH --time=01:00:00 \\n')\n",
    "    f.write('#SBATCH --mem=8G \\n')\n",
    "    f.write('#SBATCH --qos=6hours \\n')\n",
    "    f.write('#SBATCH -e '+folder_logs+'error_'+basename+'_'+str(p[0])+'_'+str(p[-1])+'.log \\n')\n",
    "    f.write('#SBATCH -o '+folder_logs+'output_'+basename+'_'+str(p[0])+'_'+str(p[-1])+'.log \\n')\n",
    "    f.write('module load Python/3.5.2-goolf-1.7.20 \\n')\n",
    "    f.write('source /scicore/home/nimwegen/witzg/DeepPlateSegmenter/venv-deeplate/bin/activate \\n')\n",
    "    f.write('python deep_plate_analysis.py \"'+\n",
    "            folder+'\" \"'+weights_folder+'\" \"'+folder_analyzed+'\" '+str(p[0])+' '+str(num_in_group)+' '+str(bf_ch)+' '+str(fluo_ch)+' \\n')\n",
    "    f.close()'''\n",
    "    \n",
    "    #GPU\n",
    "    f.write('#!/bin/bash\\n')\n",
    "    f.write('#SBATCH --job-name=test_JOB-gpu \\n')\n",
    "    f.write('#SBATCH --time=01:00:00 \\n')\n",
    "    f.write('#SBATCH --mem-per-cpu=8G \\n')\n",
    "    f.write('#SBATCH --ntasks=1 \\n')\n",
    "    f.write('#SBATCH --cpus-per-task=1 \\n')\n",
    "    f.write('#SBATCH --qos=6hours \\n')\n",
    "    f.write('#SBATCH --partition=k80 \\n')\n",
    "    f.write('#SBATCH --gres=gpu:1 \\n')\n",
    "    f.write('#SBATCH -e '+folder_logs+'error_'+basename+'_'+str(p[0])+'_'+str(p[-1])+'.log \\n')\n",
    "    f.write('#SBATCH -o '+folder_logs+'output_'+basename+'_'+str(p[0])+'_'+str(p[-1])+'.log \\n')\n",
    "    f.write('module load Python/3.5.2-goolf-1.7.20 \\n')\n",
    "    f.write('module load cuDNN \\n')\n",
    "    f.write('source /scicore/home/nimwegen/witzg/DeepPlateSegmenter/venv-deeplate-gpu/bin/activate \\n')\n",
    "    f.write('python deep_plate_analysis_multiD.py \"'+\n",
    "            folder+'\" \"'+weights_folder+'\" \"'+folder_analyzed+'\" '+str(p[0])+' '+str(num_in_group)+' '+str(bf_ch)+' '+str(fluo_ch)+' \\n')\n",
    "    f.close()\n",
    "    \n",
    "    \n",
    "    os.chmod(filename, stat.S_IRWXU)\n",
    "    \n",
    "    subprocess.call(['sbatch',filename])"
   ]
  },
  {
   "cell_type": "code",
   "execution_count": null,
   "metadata": {},
   "outputs": [],
   "source": []
  }
 ],
 "metadata": {
  "kernelspec": {
   "display_name": "Python 3",
   "language": "python",
   "name": "python3"
  },
  "language_info": {
   "codemirror_mode": {
    "name": "ipython",
    "version": 3
   },
   "file_extension": ".py",
   "mimetype": "text/x-python",
   "name": "python",
   "nbconvert_exporter": "python",
   "pygments_lexer": "ipython3",
   "version": "3.5.2"
  }
 },
 "nbformat": 4,
 "nbformat_minor": 2
}
